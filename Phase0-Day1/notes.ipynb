{
 "cells": [
  {
   "cell_type": "markdown",
   "metadata": {},
   "source": [
    "note example for test"
   ]
  },
  {
   "cell_type": "code",
   "execution_count": 4,
   "metadata": {},
   "outputs": [
    {
     "name": "stdout",
     "output_type": "stream",
     "text": [
      "h\n"
     ]
    }
   ],
   "source": [
    "print(\"h\")"
   ]
  },
  {
   "cell_type": "markdown",
   "metadata": {},
   "source": [
    "### GIT\n",
    "\n",
    "1. aktifin git > git init\n",
    "2. tambahin file yang di-track > git add .\n",
    "3. liat status file yang di-track > git status\n",
    "4. mengurangi file yang di-track > git rm --cached namafile.typefile\n",
    "5. menyambungkan file yang ada di GIT ke github > git config --global user.email \"dianakrism9@gmail.com\"\n",
    "6. menambahkan semua perubahan (update) di wd ke staging area > git add .\n",
    "7. menyimpan perubahan yang sudah dilakukan > git commit -m \"up notes.ipynb no.6-8\"\n",
    "8. transfer updated files ke repo jarak jauh > git push\n"
   ]
  },
  {
   "cell_type": "markdown",
   "metadata": {},
   "source": []
  }
 ],
 "metadata": {
  "kernelspec": {
   "display_name": "base",
   "language": "python",
   "name": "python3"
  },
  "language_info": {
   "codemirror_mode": {
    "name": "ipython",
    "version": 3
   },
   "file_extension": ".py",
   "mimetype": "text/x-python",
   "name": "python",
   "nbconvert_exporter": "python",
   "pygments_lexer": "ipython3",
   "version": "3.9.19"
  }
 },
 "nbformat": 4,
 "nbformat_minor": 2
}
